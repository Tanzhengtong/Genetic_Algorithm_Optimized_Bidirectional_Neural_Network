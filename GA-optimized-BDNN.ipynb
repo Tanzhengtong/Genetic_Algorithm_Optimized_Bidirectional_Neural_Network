{
 "cells": [
  {
   "cell_type": "markdown",
   "metadata": {},
   "source": [
    "Reference:  \n",
    "[1] “Pygad.torchga Module¶.” Pygad.torchga Module - PyGAD 2.14.2 Documentation, pygad.readthedocs.io/en/latest/README_pygad_torchga_ReadTheDocs.html. "
   ]
  },
  {
   "cell_type": "code",
   "execution_count": 1,
   "metadata": {},
   "outputs": [],
   "source": [
    "# import libraries\n",
    "import pandas as pd\n",
    "import torch\n",
    "import torch.nn.functional as F\n",
    "import matplotlib.pyplot as plt\n",
    "plt.rcParams.update({'font.size': 13}) \n",
    "from mpl_toolkits.axes_grid1 import host_subplot\n",
    "import numpy as np\n",
    "import math\n",
    "import pygad\n",
    "# import pygad.torchga\n",
    "from pygad import torchga\n",
    "np.random.seed(0)"
   ]
  },
  {
   "cell_type": "code",
   "execution_count": 2,
   "metadata": {},
   "outputs": [],
   "source": [
    "# # load training data\n",
    "# data= pd.read_excel('Anger.xlsx')\n",
    "\n",
    "# # drop first column as it is identifier and the second column as \n",
    "# data.drop(data.columns[:2], axis=1, inplace=True)\n",
    "# data.at[data['Label'] == 'Genuine', ['Label']] = 0\n",
    "# data.at[data['Label'] == 'Posed', ['Label']] = 1\n",
    "\n",
    "# # Also convert all string numeric values to int\n",
    "# data.iloc[:,2:8]=data.iloc[:, 2:8].apply(pd.to_numeric)\n",
    "\n",
    "# # extract frequency of each class\n",
    "# class_freq = data['Label'].value_counts()\n",
    "# class_freq = list(class_freq.sort_index())\n",
    "\n",
    "# # visualize distribution of data\n",
    "# # x-axis labels and length\n",
    "# x_axis = list(range(0,2))\n",
    "\n",
    "# graph = plt.bar(x_axis, class_freq)\n",
    "# plt.xticks(x_axis)\n",
    "# plt.ylabel('Frequency')\n",
    "# plt.xlabel('Species')\n",
    "# plt.title('Training Data')\n",
    "# plt.show()\n",
    "\n",
    "# # invertible output\n",
    "# one_to_one=np.linspace(0,1,class_freq[1])\n",
    "# one_to_one_code=np.concatenate((one_to_one,one_to_one))\n",
    "# data['extraNode']=one_to_one_code\n",
    "\n",
    "# print(data.head())"
   ]
  },
  {
   "cell_type": "code",
   "execution_count": 5,
   "metadata": {},
   "outputs": [
    {
     "data": {
      "image/png": "[encoded data removed]",
      "text/plain": [
       "<Figure size 432x288 with 1 Axes>"
      ]
     },
     "metadata": {
      "needs_background": "light"
     },
     "output_type": "display_data"
    }
   ],
   "source": [
    "# processed.cleveland.data\n",
    "data = pd.read_csv(\"BankNote_Authentication.csv\")\n",
    "\n",
    "# extract frequency of each class\n",
    "class_freq = data['class'].value_counts()\n",
    "class_freq = list(class_freq.sort_index())\n",
    "\n",
    "# visualize distribution of data\n",
    "# x-axis labels and length\n",
    "x_axis = list(range(0,2))\n",
    "\n",
    "graph = plt.bar(x_axis, class_freq)\n",
    "plt.xticks(x_axis)\n",
    "plt.ylabel('Frequency')\n",
    "plt.xlabel('Species')\n",
    "plt.title('Training Data')\n",
    "plt.show()\n",
    "\n",
    "# invertible output\n",
    "one_to_pos,one_to_neg=np.linspace(0,1,class_freq[1]),np.linspace(0,1,class_freq[0],)\n",
    "one_to_one_code=np.concatenate((one_to_neg,one_to_pos))\n",
    "data['extraNode']=one_to_one_code"
   ]
  },
  {
   "cell_type": "markdown",
   "metadata": {},
   "source": [
    "Looking at the distribution above, which shows that the classes are faily well-balanced. "
   ]
  },
  {
   "cell_type": "markdown",
   "metadata": {},
   "source": [
    "## Data-preprocessing"
   ]
  },
  {
   "cell_type": "code",
   "execution_count": 6,
   "metadata": {},
   "outputs": [],
   "source": [
    "# From lab3\n",
    "# normalise input data by columns\n",
    "n_features=data.shape[1] - 2\n",
    "input_pattern = data.iloc[:, :n_features]\n",
    "\n",
    "# normalise data by columns\n",
    "for column in input_pattern:\n",
    "    input_pattern[column] = input_pattern.loc[:, [column]].apply(lambda x: (x - x.min()) / (x.max() - x.min()))\n",
    "data.iloc[:, :n_features]=input_pattern"
   ]
  },
  {
   "cell_type": "code",
   "execution_count": null,
   "metadata": {},
   "outputs": [],
   "source": [
    "data.to_csv(\"PrecessedData.csv\")"
   ]
  },
  {
   "cell_type": "markdown",
   "metadata": {},
   "source": [
    "## Split dataset"
   ]
  },
  {
   "cell_type": "code",
   "execution_count": 7,
   "metadata": {},
   "outputs": [
    {
     "name": "stdout",
     "output_type": "stream",
     "text": [
      "1070 157 145\n"
     ]
    }
   ],
   "source": [
    "# try shuffle data\n",
    "data = data.sample(frac=1).reset_index(drop=True)\n",
    "\n",
    "# randomly split data into training set (80%) and rest dataset (20%)\n",
    "msk = np.random.rand(len(data)) <0.8\n",
    "\n",
    "train_data = data[msk]\n",
    "rest_data = data[~msk]\n",
    "\n",
    "# randomly split data into validaiton set (10%) and testing set (10%)\n",
    "msk = np.random.rand(len(rest_data)) < 0.5\n",
    "test_data = rest_data[msk]\n",
    "validation_data = rest_data[~msk]\n",
    "\n",
    "print(len(train_data),len(validation_data),len(test_data))"
   ]
  },
  {
   "cell_type": "markdown",
   "metadata": {},
   "source": [
    "## Data format transformation"
   ]
  },
  {
   "cell_type": "code",
   "execution_count": 8,
   "metadata": {},
   "outputs": [],
   "source": [
    "## Training Dataset\n",
    "    \n",
    "# convert pandas dataframe to array\n",
    "data_array = train_data.values\n",
    "\n",
    "# split x (features) and y (targets)\n",
    "x_array = data_array[:, :n_features]\n",
    "# data_train = data_train.apply(pd.to_numeric)\n",
    "y_array = data_array[:, n_features:]\n",
    "# create Tensors to hold inputs and outputs. Tensors are data structures\n",
    "Y = torch.tensor(y_array.astype(float)).float()\n",
    "X = torch.tensor(x_array.astype(float)).float()\n",
    "# split output pattern into labels and extra node, for later calculation\n",
    "Y_class=Y[:,0]\n",
    "Y_node=Y[:,1]\n",
    "\n",
    "## Validation Dataset\n",
    "\n",
    "# convert pandas dataframe to array\n",
    "data_array = validation_data.values\n",
    "x_array_val = data_array[:, :n_features]\n",
    "y_array_val = data_array[:, n_features:]\n",
    "\n",
    "# create Tensors to hold inputs and outputs. Tensors are data structures\n",
    "Y_val = torch.tensor(y_array_val.astype(float)).float()\n",
    "X_val = torch.tensor(x_array_val.astype(float)).float()\n",
    "\n",
    "## Test Dataset\n",
    "\n",
    "# convert pandas dataframe to array\n",
    "data_array = rest_data.values\n",
    "x_array_test = data_array[:, :n_features]\n",
    "y_array_test = data_array[:, n_features:]\n",
    "\n",
    "# create Tensors to hold inputs and outputs. Tensors are data structures\n",
    "Y_test = torch.tensor(y_array_test.astype(float)).float()\n",
    "X_test = torch.tensor(x_array_test.astype(float)).float()"
   ]
  },
  {
   "cell_type": "markdown",
   "metadata": {},
   "source": [
    "## Function definition"
   ]
  },
  {
   "cell_type": "markdown",
   "metadata": {},
   "source": [
    "## BDNN architecture"
   ]
  },
  {
   "cell_type": "code",
   "execution_count": 9,
   "metadata": {},
   "outputs": [],
   "source": [
    "# define the number of neurons for input layer, hidden layer and output layer with self-defined biases\n",
    "input_neurons = n_features\n",
    "hidden_neurons = 30\n",
    "output_neurons = 2\n",
    "\n",
    "# define loss functions\n",
    "loss_Cross = torch.nn.CrossEntropyLoss()\n",
    "loss_MSE = torch.nn.MSELoss()\n",
    "loss_BCE = torch.nn.BCEWithLogitsLoss()\n",
    "\n",
    "# define a customised neural network structure\n",
    "class BDNN(torch.nn.Module):\n",
    "\n",
    "    def __init__(self, n_input, n_hidden, n_output):\n",
    "        super(BDNN, self).__init__()\n",
    "        # define linear hidden layer output\n",
    "        self.hidden1 = torch.nn.Linear(n_input, n_hidden)\n",
    "        self.hidden2 = torch.nn.Linear(n_hidden, n_hidden)\n",
    "        self.sigmoid = torch.nn.Sigmoid()\n",
    "        # define linear output layer output\n",
    "        self.out = torch.nn.Linear(n_hidden, n_output)\n",
    "        self.input_bias = torch.nn.Parameter(torch.randn(n_features))  \n",
    "        self.output_bias = torch.nn.Parameter(torch.randn(2))     \n",
    "\n",
    "\n",
    "    def forward(self, x):\n",
    "        # get hidden layer input\n",
    "        h_input1 = self.hidden1(x)\n",
    "        # define activation function for hidden layer\n",
    "        h_output1 = F.sigmoid(h_input1)\n",
    "        # get hidden layer input\n",
    "        h_input2 = self.hidden2(h_output1)\n",
    "        # define activation function for hidden layer\n",
    "        h_output2 = F.sigmoid(h_input2)\n",
    "        # get output layer output\n",
    "        y_pred = self.out(h_output2)+self.output_bias\n",
    "\n",
    "        return y_pred\n",
    "    \n",
    "    def reverseforward(self, x):\n",
    "        h_output=torch.matmul(x, self.out.weight)\n",
    "        h = F.sigmoid(h_output)\n",
    "        h_hidden2=torch.matmul(h, self.hidden2.weight)\n",
    "        h = F.sigmoid(h_hidden2)\n",
    "        h_input=torch.matmul(h, self.hidden1.weight)+self.input_bias\n",
    "        return h_input\n"
   ]
  },
  {
   "cell_type": "markdown",
   "metadata": {},
   "source": [
    "## Benchmark model---BDNN"
   ]
  },
  {
   "cell_type": "code",
   "execution_count": 14,
   "metadata": {},
   "outputs": [
    {
     "name": "stdout",
     "output_type": "stream",
     "text": [
      "Epoch [1/300] Loss: 3.2010  Accuracy: 44.77 %\n",
      "Validation Accuracy: 42.68 %\n",
      "Epoch [201/300] Loss: 0.6657  Accuracy: 83.36 %\n",
      "Validation Accuracy: 83.44 %\n",
      "Confusion matrix for training:\n",
      "tensor([[556.,  35.],\n",
      "        [ 51., 428.]])\n"
     ]
    }
   ],
   "source": [
    "# hyperparamters for benckmark model\n",
    "learning_rate = 0.01\n",
    "num_epoch = 300\n",
    "\n",
    "bdnn = BDNN(input_neurons, hidden_neurons, output_neurons)\n",
    "optimiserbdnn=torch.optim.Adam(bdnn.parameters(), lr=learning_rate,weight_decay=1e-5)\n",
    "\n",
    "# store all losses for visualisation\n",
    "bdnn_losses = []\n",
    "bdnn_accuracy=[]\n",
    "# train a neural network\n",
    "for epoch in range(num_epoch):\n",
    "\n",
    "    Y_pred = bdnn(X)\n",
    "    class_pre=Y_pred[:,0]\n",
    "    extra_pre=Y_pred[:,1]\n",
    "    \n",
    "    # forward direction label Cross Entropy Loss\n",
    "    loss1=loss_BCE(class_pre,Y_class)\n",
    "    # perform backward pass\n",
    "    loss1.backward(retain_graph=True)\n",
    "    \n",
    "    # forward direction extra nodes MSE\n",
    "    loss2=loss_MSE(extra_pre,Y_node)\n",
    "    # perform backward pass\n",
    "    loss2.backward(retain_graph=True)\n",
    "    \n",
    "    # reverse direction input MSE\n",
    "    X_pred = bdnn.reverseforward(Y)\n",
    "    lb = F.mse_loss(X_pred, X)\n",
    "    # perform backward pass\n",
    "    lb.backward()\n",
    "    \n",
    "    \n",
    "    loss=loss1+loss2+lb\n",
    "    bdnn_losses.append(loss)\n",
    "    \n",
    "    # convert output of label into probability \n",
    "    predicted=F.sigmoid(Y_pred[:,0])\n",
    "    result=np.round(predicted.data.numpy())\n",
    "    # calculate accuracy\n",
    "    total = predicted.size(0)\n",
    "    correct = result== Y_class.data.numpy()\n",
    "    bdnn_accuracy.append(sum(correct)/total)\n",
    "    \n",
    "    \n",
    "    if epoch % 200 == 0:\n",
    "        # print accuracy\n",
    "        print('Epoch [%d/%d] Loss: %.4f  Accuracy: %.2f %%'\n",
    "              % (epoch + 1, num_epoch, loss.item(), 100 * sum(correct)/total))\n",
    "        validation(bdnn,X_val,Y_val)\n",
    "\n",
    "    if epoch==num_epoch-1:\n",
    "        print('Confusion matrix for training:')\n",
    "        print(plot_confusion(X.shape[0], output_neurons, torch.from_numpy(result).long().data, Y_class.long().data))\n",
    "\n",
    "    # Calling the step function on an Optimiser makes an update to its parameters\n",
    "    optimiserbdnn.step()\n",
    "    # Clear the gradients before running the backward pass.\n",
    "    bdnn.zero_grad()"
   ]
  },
  {
   "cell_type": "code",
   "execution_count": 15,
   "metadata": {},
   "outputs": [
    {
     "name": "stdout",
     "output_type": "stream",
     "text": [
      "Testing Accuracy: 94.04 %\n",
      "Confusion matrix for testing:\n",
      "tensor([[165.,   6.],\n",
      "        [ 12., 119.]])\n"
     ]
    },
    {
     "data": {
      "image/png": "[encoded data removed]",
      "text/plain": [
       "<Figure size 432x288 with 1 Axes>"
      ]
     },
     "metadata": {
      "needs_background": "light"
     },
     "output_type": "display_data"
    }
   ],
   "source": [
    "plot_graph(bdnn_losses,bdnn_accuracy)\n",
    "test(bdnn,X_test,Y_test)"
   ]
  },
  {
   "cell_type": "markdown",
   "metadata": {},
   "source": [
    "## Benchmark model---SDNN"
   ]
  },
  {
   "cell_type": "code",
   "execution_count": 18,
   "metadata": {},
   "outputs": [
    {
     "name": "stdout",
     "output_type": "stream",
     "text": [
      "Epoch [1/300] Loss: 0.8995  Accuracy: 44.77 %\n",
      "Validation Accuracy: 42.68 %\n",
      "Epoch [201/300] Loss: 0.3325  Accuracy: 87.66 %\n",
      "Validation Accuracy: 87.26 %\n",
      "Confusion matrix for training:\n",
      "tensor([[571.,  20.],\n",
      "        [  4., 475.]])\n"
     ]
    }
   ],
   "source": [
    "# hyperparamters for benckmark model\n",
    "learning_rate = 0.005\n",
    "num_epoch = 300\n",
    "\n",
    "sdnn = BDNN(input_neurons, hidden_neurons, output_neurons)\n",
    "optimisersdnn=torch.optim.Adam(sdnn.parameters(), lr=learning_rate)\n",
    "\n",
    "# store all losses for visualisation\n",
    "sdnn_losses = []\n",
    "sdnn_accuracy=[]\n",
    "# train a neural network\n",
    "for epoch in range(num_epoch):\n",
    "\n",
    "    Y_pred = sdnn(X)\n",
    "    class_pre=Y_pred[:,0]\n",
    "    extra_pre=Y_pred[:,1]\n",
    "    \n",
    "    # forward direction label Cross Entropy Loss\n",
    "    loss1=loss_BCE(class_pre,Y_class)\n",
    "    # perform backward pass\n",
    "    loss1.backward(retain_graph=True)\n",
    "    \n",
    "\n",
    "    loss=loss1\n",
    "    sdnn_losses.append(loss)\n",
    "    \n",
    "    # convert output of label into probability \n",
    "    predicted=F.sigmoid(Y_pred[:,0])\n",
    "    result=np.round(predicted.data.numpy())\n",
    "    # calculate accuracy\n",
    "    total = predicted.size(0)\n",
    "    correct = result== Y_class.data.numpy()\n",
    "    sdnn_accuracy.append(sum(correct)/total)\n",
    "    \n",
    "    \n",
    "    if epoch % 200 == 0:\n",
    "        # print accuracy\n",
    "        print('Epoch [%d/%d] Loss: %.4f  Accuracy: %.2f %%'\n",
    "              % (epoch + 1, num_epoch, loss.item(), 100 * sum(correct)/total))\n",
    "        validation(sdnn,X_val,Y_val)\n",
    "\n",
    "    if epoch==num_epoch-1:\n",
    "        print('Confusion matrix for training:')\n",
    "        print(plot_confusion(X.shape[0], output_neurons, torch.from_numpy(result).long().data, Y_class.long().data))\n",
    "\n",
    "    # Calling the step function on an Optimiser makes an update to its parameters\n",
    "    optimisersdnn.step()\n",
    "    # Clear the gradients before running the backward pass.\n",
    "    sdnn.zero_grad()"
   ]
  },
  {
   "cell_type": "code",
   "execution_count": 19,
   "metadata": {},
   "outputs": [
    {
     "name": "stdout",
     "output_type": "stream",
     "text": [
      "Testing Accuracy: 97.68 %\n",
      "Confusion matrix for testing:\n",
      "tensor([[166.,   5.],\n",
      "        [  2., 129.]])\n"
     ]
    },
    {
     "data": {
      "image/png": "[encoded data removed]",
      "text/plain": [
       "<Figure size 432x288 with 1 Axes>"
      ]
     },
     "metadata": {
      "needs_background": "light"
     },
     "output_type": "display_data"
    }
   ],
   "source": [
    "plot_graph(sdnn_losses,sdnn_accuracy)\n",
    "test(sdnn,X_test,Y_test)"
   ]
  },
  {
   "cell_type": "markdown",
   "metadata": {},
   "source": [
    "## GA-optimized BDNN (Model in this paper)"
   ]
  },
  {
   "cell_type": "markdown",
   "metadata": {},
   "source": [
    "### Stage 1: GA optimises BDNN weights and biases"
   ]
  },
  {
   "cell_type": "code",
   "execution_count": 20,
   "metadata": {},
   "outputs": [
    {
     "data": {
      "image/png": "[encoded data removed]",
      "text/plain": [
       "<Figure size 432x288 with 1 Axes>"
      ]
     },
     "metadata": {
      "needs_background": "light"
     },
     "output_type": "display_data"
    },
    {
     "name": "stdout",
     "output_type": "stream",
     "text": [
      "Fitness value of the best solution = 7.523859026878817\n",
      "Index of the best solution : 0\n"
     ]
    },
    {
     "data": {
      "text/plain": [
       "<All keys matched successfully>"
      ]
     },
     "execution_count": 20,
     "metadata": {},
     "output_type": "execute_result"
    }
   ],
   "source": [
    "def fitness_func(solution, sol_idx):\n",
    "    global data_inputs, data_outputs, torch_ga, model, loss_function1,loss_function2\n",
    "\n",
    "    model_weights_dict = torchga.model_weights_as_dict(model=model,\n",
    "                                                       weights_vector=solution)\n",
    "\n",
    "    model.load_state_dict(model_weights_dict)\n",
    "    predictions = model(data_inputs)\n",
    "    \n",
    "    # loss BCE\n",
    "    loss1=loss_function1(predictions[:,0], data_outputs[:,0]).detach().numpy()*0.1\n",
    "    # loss MSE\n",
    "    loss2=loss_function2(predictions[:,1], data_outputs[:,1]).detach().numpy()*0.9\n",
    "    solution_fitness = 1.0 / ( loss1+loss2 + 0.00000001)\n",
    "\n",
    "    return solution_fitness\n",
    "\n",
    "# bdnn model initialization\n",
    "model=BDNN(input_neurons, hidden_neurons, output_neurons)\n",
    "\n",
    "# Create an instance of the pygad.torchga.TorchGA class to build the initial population.\n",
    "torch_ga = torchga.TorchGA(model=model,\n",
    "                           num_solutions=)\n",
    "\n",
    "loss_function1 = torch.nn.BCEWithLogitsLoss()\n",
    "loss_function2 = torch.nn.MSELoss()\n",
    "\n",
    "\n",
    "data_inputs=X\n",
    "data_outputs=Y\n",
    "\n",
    "# Prepare the PyGAD parameters\n",
    "num_generations = 200 # Number of generations.\n",
    "num_parents_mating = 10 # Number of solutions to be selected as parents in the mating pool\n",
    "initial_population = torch_ga.population_weights # Initial population of network weights\n",
    "parent_selection_type = \"sss\" # Type of parent selection\n",
    "crossover_type = \"single_point\" # Type of the crossover operator\n",
    "crossover_probability=0.9 # The probability of crossover operator\n",
    "mutation_type = \"random\" # Type of the mutation operator\n",
    "mutation_percent_genes = 10# Percentage of genes to mutate. This parameter has no action if the parameter mutation_num_genes exists.\n",
    "keep_parents = -1 # Number of parents to keep in the next population. -1 means keep all parents and 0 means keep nothing.\n",
    "\n",
    "# Create an instance of the pygad.GA class\n",
    "ga_instance = pygad.GA(num_generations=num_generations, \n",
    "                       num_parents_mating=num_parents_mating, \n",
    "                       initial_population=initial_population,\n",
    "                       fitness_func=fitness_func,\n",
    "                       parent_selection_type=parent_selection_type,\n",
    "                       crossover_type=crossover_type,\n",
    "                       crossover_probability=crossover_probability,\n",
    "                       mutation_type=mutation_type,\n",
    "                       mutation_percent_genes=mutation_percent_genes,\n",
    "                       keep_parents=keep_parents)\n",
    "\n",
    "# Start the genetic algorithm evolution.\n",
    "ga_instance.run()\n",
    "# After the generations complete, some plots are showed that summarize how the outputs/fitness values evolve over generations.\n",
    "ga_instance.plot_result(title=\"PyGAD & PyTorch - Iteration vs. Fitness\", linewidth=4)\n",
    "\n",
    "# Returning the details of the best solution.\n",
    "solution, solution_fitness, solution_idx = ga_instance.best_solution()\n",
    "print(\"Fitness value of the best solution = {solution_fitness}\".format(solution_fitness=solution_fitness))\n",
    "print(\"Index of the best solution : {solution_idx}\".format(solution_idx=solution_idx))\n",
    "\n",
    "# Fetch the parameters of the best solution.\n",
    "best_solution_weights = torchga.model_weights_as_dict(model=model,\n",
    "                                                      weights_vector=solution)\n",
    "model.load_state_dict(best_solution_weights)\n"
   ]
  },
  {
   "cell_type": "markdown",
   "metadata": {},
   "source": [
    "### Stage 2: BDNN fine-tuning"
   ]
  },
  {
   "cell_type": "code",
   "execution_count": 21,
   "metadata": {},
   "outputs": [
    {
     "name": "stdout",
     "output_type": "stream",
     "text": [
      "Epoch [1/300] Loss: 9.0917  Accuracy: 90.56 %\n",
      "Validation Accuracy: 92.99 %\n",
      "Epoch [201/300] Loss: 0.1527  Accuracy: 99.16 %\n",
      "Validation Accuracy: 98.73 %\n",
      "Confusion matrix for training:\n",
      "tensor([[588.,   3.],\n",
      "        [  0., 479.]])\n"
     ]
    }
   ],
   "source": [
    "# hyperparamters \n",
    "learning_rate = 0.02\n",
    "num_epoch = 300\n",
    "\n",
    "optimisergabdnn=torch.optim.Adam(model.parameters(), lr=learning_rate,weight_decay=2e-5)\n",
    "# store all losses for visualisation\n",
    "ga_losses = []\n",
    "ga_accuracy=[]\n",
    "# train a neural network\n",
    "for epoch in range(num_epoch):\n",
    "\n",
    "    Y_pred = model(X)\n",
    "    class_pre=Y_pred[:,0]\n",
    "    extra_pre=Y_pred[:,1]\n",
    "    \n",
    "    # forward direction label Cross Entropy Loss\n",
    "    loss1=loss_BCE(class_pre,Y_class)\n",
    "    # perform backward pass\n",
    "    loss1.backward(retain_graph=True)\n",
    "    \n",
    "    # forward direction extra nodes MSE\n",
    "    loss2=loss_MSE(extra_pre,Y_node)\n",
    "    # perform backward pass\n",
    "    loss2.backward(retain_graph=True)\n",
    "    \n",
    "    # reverse direction input MSE\n",
    "    X_pred = model.reverseforward(Y)\n",
    "    lb = F.mse_loss(X_pred, X)\n",
    "    # perform backward pass\n",
    "    lb.backward()\n",
    "    \n",
    "    loss=loss1+loss2+lb\n",
    "    ga_losses.append(loss)\n",
    "    \n",
    "    # convert output of label into probability \n",
    "    predicted=F.sigmoid(Y_pred[:,0])\n",
    "    result=np.round(predicted.data.numpy())\n",
    "    # calculate accuracy\n",
    "    total = predicted.size(0)\n",
    "    correct = result== Y_class.data.numpy()\n",
    "    ga_accuracy.append(sum(correct)/total)\n",
    "    \n",
    "    \n",
    "    if epoch % 200 == 0:\n",
    "        # print accuracy\n",
    "        print('Epoch [%d/%d] Loss: %.4f  Accuracy: %.2f %%'\n",
    "              % (epoch + 1, num_epoch, loss.item(), 100 * sum(correct)/total))\n",
    "        validation(model,X_val,Y_val)\n",
    "    if epoch==num_epoch-1:\n",
    "        print('Confusion matrix for training:')\n",
    "        print(plot_confusion(X.shape[0], output_neurons, torch.from_numpy(result).long().data, Y_class.long().data))\n",
    "\n",
    "    # Calling the step function on an Optimiser makes an update to its parameters\n",
    "    optimisergabdnn.step()\n",
    "    # Clear the gradients before running the backward pass.\n",
    "    model.zero_grad()"
   ]
  },
  {
   "cell_type": "markdown",
   "metadata": {},
   "source": [
    "## Test the GA-optimized BDNN\n",
    "\n",
    "Pass testing data to the built neural network and get its performance"
   ]
  },
  {
   "cell_type": "code",
   "execution_count": 22,
   "metadata": {},
   "outputs": [
    {
     "data": {
      "image/png": "[encoded data removed]",
      "text/plain": [
       "<Figure size 432x288 with 1 Axes>"
      ]
     },
     "metadata": {
      "needs_background": "light"
     },
     "output_type": "display_data"
    }
   ],
   "source": [
    "plot_graph(ga_losses,ga_accuracy)"
   ]
  },
  {
   "cell_type": "code",
   "execution_count": 23,
   "metadata": {},
   "outputs": [
    {
     "name": "stdout",
     "output_type": "stream",
     "text": [
      "Testing Accuracy: 100.00 %\n",
      "Confusion matrix for testing:\n",
      "tensor([[171.,   0.],\n",
      "        [  0., 131.]])\n"
     ]
    }
   ],
   "source": [
    "test(model,X_test,Y_test)"
   ]
  },
  {
   "cell_type": "markdown",
   "metadata": {},
   "source": [
    "## GA-optimized BDNN VS BDNN"
   ]
  },
  {
   "cell_type": "code",
   "execution_count": 11,
   "metadata": {},
   "outputs": [],
   "source": [
    "# define a function to plot confusion matrix\n",
    "def plot_confusion(input_sample, num_classes, des_output, actual_output):\n",
    "    confusion = torch.zeros(num_classes, num_classes)\n",
    "    for i in range(input_sample):\n",
    "        actual_class = actual_output[i]\n",
    "        predicted_class = des_output[i]\n",
    "        confusion[actual_class][predicted_class] += 1\n",
    "    return confusion\n",
    "\n",
    "\n",
    "# plot model accuracy comparison graph\n",
    "def plot_comparison_acc(accuracy1,accuracy2):\n",
    "    plt.figure()\n",
    "    host = host_subplot(111)  \n",
    "    plt.subplots_adjust(right=0.8)\n",
    "\n",
    "    host.set_xlabel(\"Epochs\")\n",
    "    host.set_ylabel(\"Accuracy\")\n",
    "\n",
    "    # plot curves\n",
    "    p2, = host.plot(range(len(accuracy1)), accuracy1, label=\"GA-BDNN Accuracy\")\n",
    "    p4, = host.plot(range(len(accuracy2)), accuracy2, label=\"BDNN Accuracy\")\n",
    "\n",
    "    # set location of the legend\n",
    "    host.legend(loc=4)\n",
    "\n",
    "    # set label color\n",
    "    host.axis[\"left\"].label.set_color(p2.get_color())\n",
    "\n",
    "    plt.draw()\n",
    "    plt.savefig('comparison-acc.eps',dpi=300,format='eps')\n",
    "\n",
    "    \n",
    "# plot model loss comparison graph\n",
    "def plot_comparison_loss(losses1,losses2):\n",
    "    plt.figure()  \n",
    "    host = host_subplot(111)  \n",
    "    plt.subplots_adjust(right=0.8)\n",
    "\n",
    "\n",
    "    host.set_xlabel(\"Epochs\")#,fontsize=15)\n",
    "    host.set_ylabel(\"Loss\")#,fontsize=15)\n",
    "\n",
    "    # plot curves\n",
    "    p1, = host.plot(range(len(losses1)), losses1, label=\"GA-BDNN Loss\")\n",
    "    p3, = host.plot(range(len(losses2)), losses2, label=\"BDNN Loss\")\n",
    "\n",
    "    # set location of the legend\n",
    "    host.legend(loc=5)\n",
    "\n",
    "    # set label color\n",
    "    host.axis[\"left\"].label.set_color(p1.get_color())\n",
    "\n",
    "\n",
    "    plt.draw()\n",
    "    plt.savefig('comparison-loss.eps',dpi=300,format='eps')\n",
    "    \n",
    "\n",
    "\n",
    "    \n",
    "    \n",
    "# plot model accuracy vs loss graph \n",
    "def plot_graph(all_losses,all_accuracy):\n",
    "    plt.figure()\n",
    "    host = host_subplot(111)  \n",
    "    plt.subplots_adjust(right=0.8)\n",
    "    par1 = host.twinx()  \n",
    "\n",
    "    host.set_xlabel(\"Epochs\")\n",
    "    host.set_ylabel(\"Loss\")\n",
    "    par1.set_ylabel(\"Accuracy\")\n",
    "\n",
    "    # plot curves\n",
    "    p1, = host.plot(range(len(all_losses)), all_losses, label=\"Loss\")\n",
    "    p2, = par1.plot(range(len(all_accuracy)), all_accuracy, label=\"Accuracy\")\n",
    "\n",
    "    # set location of the legend\n",
    "    host.legend(loc=5)\n",
    "\n",
    "    # set label color\n",
    "    host.axis[\"left\"].label.set_color(p1.get_color())\n",
    "    par1.axis[\"right\"].label.set_color(p2.get_color())\n",
    "\n",
    "    plt.draw()\n",
    "    # plt.savefig(\"accuracy-vs-loss.jpg\")\n",
    "\n",
    "# validation Accuracy    \n",
    "def validation(net,val_X,val_Y):\n",
    "    Y_val_class=Y_val[:,0]\n",
    "    Y_val_node=Y_val[:,1]\n",
    "    \n",
    "    outputs = net(val_X)\n",
    "    predicted=outputs[:,0]\n",
    "    predicted=F.sigmoid(predicted)\n",
    "\n",
    "    total = predicted.size(0)\n",
    "    result=np.round(predicted.data.numpy())\n",
    "\n",
    "    correct = result == Y_val_class.data.numpy()\n",
    "\n",
    "    print('Validation Accuracy: %.2f %%' % (100 * sum(correct)/total))\n",
    "\n",
    "# testing result\n",
    "def test(net,X_test,Y_test):\n",
    "    outputs = net(X_test)\n",
    "    predicted=F.sigmoid(outputs[:,0])\n",
    "    total = predicted.size(0)\n",
    "    result=np.round(predicted.data.numpy())\n",
    "\n",
    "    correct = result == Y_test[:,0].data.numpy()\n",
    "    print('Testing Accuracy: %.2f %%' % (100 * sum(correct)/total))\n",
    "\n",
    "    # Evaluating the Results\n",
    "    print('Confusion matrix for testing:')\n",
    "    print(plot_confusion(X_test.shape[0], output_neurons, torch.from_numpy(result).long().data, Y_test[:,0].long().data))\n",
    "    \n",
    "    \n",
    "def plot_test(losses1,losses2,accuracy1,accuracy2):\n",
    "#     plt.figure()\n",
    "#     fig, (ax1, ax2)=plt.subplot(1,2,1)\n",
    "#     fig, (host, host1) = plt.subplots(nrows=1, ncols=2, figsize=(9, 4), sharey=True)\n",
    "#     host = host_subplot(121)  \n",
    "#     plt.subplots_adjust(right=0.8)\n",
    "    host = plt.subplot(121)\n",
    "    host.set_xlabel(\"Epochs\")#,fontsize=15)\n",
    "    host.set_ylabel(\"Loss\")#,fontsize=15)\n",
    "#     host.set_ylim([0,6])\n",
    "    # plot curves\n",
    "    p1, = host.plot(range(len(losses1)), losses1, label=\"GA-BDNN Loss\")\n",
    "    p3, = host.plot(range(len(losses2)), losses2, label=\"BDNN Loss\")\n",
    "    # set location of the legend\n",
    "    host.legend(loc=5)\n",
    "\n",
    "    # set label color\n",
    "#     host.axis[\"left\"].label.set_color(p1.get_color())\n",
    "    \n",
    "    \n",
    "#     plt.subplot(1,2,2)\n",
    "#     host1 = host_subplot(122)  \n",
    "#     plt.subplots_adjust(right=0.8)\n",
    "    host1 = plt.subplot(122)\n",
    "    host1.set_xlabel(\"Epochs\")\n",
    "    host1.set_ylabel(\"Accuracy\")\n",
    "#     host1.ylim(0,1)\n",
    "#     host1.set_ylim([0,1])\n",
    "    # plot curves\n",
    "    p2, = host1.plot(range(len(accuracy1)), accuracy1, label=\"GA-BDNN Accuracy\")\n",
    "    p4, = host1.plot(range(len(accuracy2)), accuracy2, label=\"BDNN Accuracy\")\n",
    "\n",
    "    # set location of the legend\n",
    "    host1.legend(loc=4)\n",
    "\n",
    "    # set label color\n",
    "#     host1.axis[\"left\"].label.set_color(p2.get_color())\n",
    "#     plt.subplots_adjust(bottom=0.15,wspace=1)\n",
    "    plt.subplots_adjust(left=-0.5, wspace=0.25, hspace=0.25,\n",
    "                    bottom=0.13, top=0.91)\n",
    "    plt.savefig('comparison.eps',dpi=600,bbox_inches='tight',format='eps')\n",
    "    plt.show()"
   ]
  },
  {
   "cell_type": "code",
   "execution_count": 24,
   "metadata": {},
   "outputs": [
    {
     "name": "stderr",
     "output_type": "stream",
     "text": [
      "The PostScript backend does not support transparency; partially transparent artists will be rendered opaque.\n",
      "The PostScript backend does not support transparency; partially transparent artists will be rendered opaque.\n",
      "The PostScript backend does not support transparency; partially transparent artists will be rendered opaque.\n",
      "The PostScript backend does not support transparency; partially transparent artists will be rendered opaque.\n"
     ]
    },
    {
     "data": {
      "image/png": "[encoded data removed]",
      "text/plain": [
       "<Figure size 432x288 with 2 Axes>"
      ]
     },
     "metadata": {
      "needs_background": "light"
     },
     "output_type": "display_data"
    },
    {
     "name": "stderr",
     "output_type": "stream",
     "text": [
      "The PostScript backend does not support transparency; partially transparent artists will be rendered opaque.\n",
      "The PostScript backend does not support transparency; partially transparent artists will be rendered opaque.\n",
      "The PostScript backend does not support transparency; partially transparent artists will be rendered opaque.\n",
      "The PostScript backend does not support transparency; partially transparent artists will be rendered opaque.\n"
     ]
    },
    {
     "data": {
      "image/png": "[encoded data removed]",
      "text/plain": [
       "<Figure size 432x288 with 1 Axes>"
      ]
     },
     "metadata": {
      "needs_background": "light"
     },
     "output_type": "display_data"
    },
    {
     "data": {
      "image/png": "[encoded data removed]",
      "text/plain": [
       "<Figure size 432x288 with 1 Axes>"
      ]
     },
     "metadata": {
      "needs_background": "light"
     },
     "output_type": "display_data"
    }
   ],
   "source": [
    "plot_test(ga_losses,bdnn_losses,ga_accuracy,bdnn_accuracy)\n",
    "plot_comparison_loss(ga_losses,bdnn_losses)\n",
    "plot_comparison_acc(ga_accuracy,bdnn_accuracy)"
   ]
  }
 ],
 "metadata": {
  "kernelspec": {
   "display_name": "Python 3",
   "language": "python",
   "name": "python3"
  },
  "language_info": {
   "codemirror_mode": {
    "name": "ipython",
    "version": 3
   },
   "file_extension": ".py",
   "mimetype": "text/x-python",
   "name": "python",
   "nbconvert_exporter": "python",
   "pygments_lexer": "ipython3",
   "version": "3.8.5"
  }
 },
 "nbformat": 4,
 "nbformat_minor": 4
}
